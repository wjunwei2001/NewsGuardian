{
 "cells": [
  {
   "cell_type": "code",
   "execution_count": 1,
   "id": "67e213fd",
   "metadata": {},
   "outputs": [],
   "source": [
    "import pandas as pd\n",
    "from nltk.corpus import stopwords\n",
    "from nltk.stem.porter import PorterStemmer\n",
    "import re\n",
    "import nltk"
   ]
  },
  {
   "attachments": {},
   "cell_type": "markdown",
   "id": "5258a99f",
   "metadata": {},
   "source": [
    "### Load Data"
   ]
  },
  {
   "cell_type": "code",
   "execution_count": 2,
   "id": "c4f1abf2",
   "metadata": {},
   "outputs": [
    {
     "data": {
      "text/html": [
       "<div>\n",
       "<style scoped>\n",
       "    .dataframe tbody tr th:only-of-type {\n",
       "        vertical-align: middle;\n",
       "    }\n",
       "\n",
       "    .dataframe tbody tr th {\n",
       "        vertical-align: top;\n",
       "    }\n",
       "\n",
       "    .dataframe thead th {\n",
       "        text-align: right;\n",
       "    }\n",
       "</style>\n",
       "<table border=\"1\" class=\"dataframe\">\n",
       "  <thead>\n",
       "    <tr style=\"text-align: right;\">\n",
       "      <th></th>\n",
       "      <th>title</th>\n",
       "      <th>text</th>\n",
       "      <th>subject</th>\n",
       "      <th>date</th>\n",
       "      <th>label</th>\n",
       "    </tr>\n",
       "  </thead>\n",
       "  <tbody>\n",
       "    <tr>\n",
       "      <th>0</th>\n",
       "      <td>As U.S. budget fight looms, Republicans flip t...</td>\n",
       "      <td>WASHINGTON (Reuters) - The head of a conservat...</td>\n",
       "      <td>politicsNews</td>\n",
       "      <td>December 31, 2017</td>\n",
       "      <td>1</td>\n",
       "    </tr>\n",
       "    <tr>\n",
       "      <th>1</th>\n",
       "      <td>U.S. military to accept transgender recruits o...</td>\n",
       "      <td>WASHINGTON (Reuters) - Transgender people will...</td>\n",
       "      <td>politicsNews</td>\n",
       "      <td>December 29, 2017</td>\n",
       "      <td>1</td>\n",
       "    </tr>\n",
       "    <tr>\n",
       "      <th>2</th>\n",
       "      <td>Senior U.S. Republican senator: 'Let Mr. Muell...</td>\n",
       "      <td>WASHINGTON (Reuters) - The special counsel inv...</td>\n",
       "      <td>politicsNews</td>\n",
       "      <td>December 31, 2017</td>\n",
       "      <td>1</td>\n",
       "    </tr>\n",
       "    <tr>\n",
       "      <th>3</th>\n",
       "      <td>FBI Russia probe helped by Australian diplomat...</td>\n",
       "      <td>WASHINGTON (Reuters) - Trump campaign adviser ...</td>\n",
       "      <td>politicsNews</td>\n",
       "      <td>December 30, 2017</td>\n",
       "      <td>1</td>\n",
       "    </tr>\n",
       "    <tr>\n",
       "      <th>4</th>\n",
       "      <td>Trump wants Postal Service to charge 'much mor...</td>\n",
       "      <td>SEATTLE/WASHINGTON (Reuters) - President Donal...</td>\n",
       "      <td>politicsNews</td>\n",
       "      <td>December 29, 2017</td>\n",
       "      <td>1</td>\n",
       "    </tr>\n",
       "  </tbody>\n",
       "</table>\n",
       "</div>"
      ],
      "text/plain": [
       "                                               title  \\\n",
       "0  As U.S. budget fight looms, Republicans flip t...   \n",
       "1  U.S. military to accept transgender recruits o...   \n",
       "2  Senior U.S. Republican senator: 'Let Mr. Muell...   \n",
       "3  FBI Russia probe helped by Australian diplomat...   \n",
       "4  Trump wants Postal Service to charge 'much mor...   \n",
       "\n",
       "                                                text       subject  \\\n",
       "0  WASHINGTON (Reuters) - The head of a conservat...  politicsNews   \n",
       "1  WASHINGTON (Reuters) - Transgender people will...  politicsNews   \n",
       "2  WASHINGTON (Reuters) - The special counsel inv...  politicsNews   \n",
       "3  WASHINGTON (Reuters) - Trump campaign adviser ...  politicsNews   \n",
       "4  SEATTLE/WASHINGTON (Reuters) - President Donal...  politicsNews   \n",
       "\n",
       "                 date  label  \n",
       "0  December 31, 2017       1  \n",
       "1  December 29, 2017       1  \n",
       "2  December 31, 2017       1  \n",
       "3  December 30, 2017       1  \n",
       "4  December 29, 2017       1  "
      ]
     },
     "execution_count": 2,
     "metadata": {},
     "output_type": "execute_result"
    }
   ],
   "source": [
    "true = pd.read_csv('True.csv')\n",
    "fake = pd.read_csv('Fake.csv')\n",
    "true['label'] = 1\n",
    "fake['label'] = 0\n",
    "frames = [true.loc[:][:], fake.loc[:][:]]  #Edit this to control the size of dataset\n",
    "df = pd.concat(frames)\n",
    "df.head()"
   ]
  },
  {
   "cell_type": "code",
   "execution_count": 3,
   "id": "5ef6a28f",
   "metadata": {},
   "outputs": [],
   "source": [
    "X = df.drop('label', axis=1) \n",
    "y = df['label']\n",
    "df = df.dropna()\n",
    "df2 = df.copy()\n",
    "df2 = df2.reset_index(drop = True)"
   ]
  },
  {
   "attachments": {},
   "cell_type": "markdown",
   "id": "92f280c5",
   "metadata": {},
   "source": [
    "### Tokenization"
   ]
  },
  {
   "cell_type": "code",
   "execution_count": 4,
   "id": "b908929a",
   "metadata": {},
   "outputs": [],
   "source": [
    "ps = PorterStemmer()\n",
    "corpus = []\n",
    "for i in range(0, len(df2)):\n",
    "    review = re.sub('[^a-zA-Z]', ' ', df2['text'][i])\n",
    "    review = review.lower()\n",
    "    review = review.split()\n",
    "    \n",
    "    review = [ps.stem(word) for word in review if not word in stopwords.words('english')]\n",
    "    review = ' '.join(review)\n",
    "    corpus.append(review)"
   ]
  },
  {
   "attachments": {},
   "cell_type": "markdown",
   "id": "11680c10",
   "metadata": {},
   "source": [
    "### Vectorization"
   ]
  },
  {
   "cell_type": "code",
   "execution_count": 6,
   "id": "6064033c",
   "metadata": {},
   "outputs": [],
   "source": [
    "from sklearn.feature_extraction.text import TfidfVectorizer\n",
    "tfidf_v = TfidfVectorizer(max_features=5000, ngram_range=(1,3))\n",
    "X = tfidf_v.fit_transform(corpus).toarray()\n",
    "y = df2['label']"
   ]
  },
  {
   "attachments": {},
   "cell_type": "markdown",
   "id": "225c821a",
   "metadata": {},
   "source": [
    "### Gaussian Naive Bayes Model training"
   ]
  },
  {
   "cell_type": "code",
   "execution_count": 43,
   "id": "f9d55deb",
   "metadata": {},
   "outputs": [
    {
     "name": "stdout",
     "output_type": "stream",
     "text": [
      "Gaussian Naive Bayes accuracy:   0.973\n"
     ]
    }
   ],
   "source": [
    "from sklearn.model_selection import train_test_split\n",
    "X_train, X_test, y_train, y_test = train_test_split(X, y, test_size=0.2, random_state=0)\n",
    "\n",
    "from sklearn.linear_model import PassiveAggressiveClassifier\n",
    "from sklearn.svm import SVC\n",
    "from sklearn.naive_bayes import GaussianNB\n",
    "from sklearn import metrics\n",
    "import numpy as np\n",
    "import itertools\n",
    "\n",
    "GNBclassifier = GaussianNB()\n",
    "GNBclassifier.fit(X_train, y_train)\n",
    "pred = GNBclassifier.predict(X_test)\n",
    "score = metrics.accuracy_score(y_test, pred)\n",
    "print(\"Gaussian Naive Bayes accuracy:   %0.3f\" % score)"
   ]
  },
  {
   "attachments": {},
   "cell_type": "markdown",
   "id": "d2b3048c",
   "metadata": {},
   "source": [
    "### SVC Model Training"
   ]
  },
  {
   "cell_type": "code",
   "execution_count": 44,
   "id": "1c851972",
   "metadata": {},
   "outputs": [
    {
     "name": "stdout",
     "output_type": "stream",
     "text": [
      "SVC accuracy:   1.000\n"
     ]
    }
   ],
   "source": [
    "SVCclassifier = SVC()\n",
    "SVCclassifier.fit(X_train, y_train)\n",
    "pred = SVCclassifier.predict(X_test)\n",
    "score = metrics.accuracy_score(y_test, pred)\n",
    "print(\"SVC accuracy:   %0.3f\" % score)"
   ]
  },
  {
   "attachments": {},
   "cell_type": "markdown",
   "id": "136ebc91",
   "metadata": {},
   "source": [
    "### Passive Aggressive Classifier Model Training"
   ]
  },
  {
   "cell_type": "code",
   "execution_count": 45,
   "id": "bd09fced",
   "metadata": {},
   "outputs": [
    {
     "name": "stdout",
     "output_type": "stream",
     "text": [
      "Passive Aggressive Classifier accuracy:   0.998\n"
     ]
    }
   ],
   "source": [
    "PACclassifier = PassiveAggressiveClassifier(max_iter=1000)\n",
    "PACclassifier.fit(X_train, y_train)\n",
    "pred = PACclassifier.predict(X_test)\n",
    "score = metrics.accuracy_score(y_test, pred)\n",
    "print(\"Passive Aggressive Classifier accuracy:   %0.3f\" % score)"
   ]
  },
  {
   "attachments": {},
   "cell_type": "markdown",
   "id": "275a0d01",
   "metadata": {},
   "source": [
    "### Ensemble Learning\n",
    "Applying bootstrap aggregation to the ML models\n"
   ]
  },
  {
   "cell_type": "code",
   "execution_count": 46,
   "id": "402c79af",
   "metadata": {},
   "outputs": [],
   "source": [
    "def bootstrap_sample(x_data, y_data):\n",
    "    indices = np.random.choice(len(x_data), size=len(x_data)//2, replace=True)\n",
    "    X_sample = X[indices]\n",
    "    y_sample = y[indices]\n",
    "    return X_sample, y_sample\n",
    "\n",
    "X_train_1, y_train_1 = bootstrap_sample(X_train, y_train)\n",
    "X_train_2, y_train_2 = bootstrap_sample(X_train, y_train)\n",
    "X_train_3, y_train_3 = bootstrap_sample(X_train, y_train)\n"
   ]
  },
  {
   "cell_type": "code",
   "execution_count": 52,
   "id": "90027c4b",
   "metadata": {},
   "outputs": [
    {
     "name": "stdout",
     "output_type": "stream",
     "text": [
      "Ensemble accuracy: 0.980\n"
     ]
    }
   ],
   "source": [
    "from scipy.stats import mode\n",
    "\n",
    "def majority_voting(predictions):\n",
    "    majority_vote = mode(predictions)[0]\n",
    "    return majority_vote[0]\n",
    "\n",
    "GNBclassifier = GaussianNB()\n",
    "GNBclassifier.fit(X_train_1, y_train_1)\n",
    "pred1 = GNBclassifier.predict(X_test)\n",
    "\n",
    "SVCclassifier = SVC()\n",
    "SVCclassifier.fit(X_train_2, y_train_2)\n",
    "pred2 = SVCclassifier.predict(X_test)\n",
    "\n",
    "PACclassifier = PassiveAggressiveClassifier(max_iter=1000)\n",
    "PACclassifier.fit(X_train_3, y_train_3)\n",
    "pred3 = PACclassifier.predict(X_test)\n",
    "\n",
    "all_predictions = [pred1, pred2, pred3]\n",
    "final_vote = majority_voting(all_predictions)\n",
    "\n",
    "ensemble_score = metrics.accuracy_score(y_test, final_vote)\n",
    "print(\"Ensemble accuracy: %.3f\" % ensemble_score)\n"
   ]
  },
  {
   "cell_type": "code",
   "execution_count": null,
   "id": "b3d8b9a1",
   "metadata": {},
   "outputs": [],
   "source": []
  }
 ],
 "metadata": {
  "kernelspec": {
   "display_name": "Python 3 (ipykernel)",
   "language": "python",
   "name": "python3"
  },
  "language_info": {
   "codemirror_mode": {
    "name": "ipython",
    "version": 3
   },
   "file_extension": ".py",
   "mimetype": "text/x-python",
   "name": "python",
   "nbconvert_exporter": "python",
   "pygments_lexer": "ipython3",
   "version": "3.9.12"
  }
 },
 "nbformat": 4,
 "nbformat_minor": 5
}
